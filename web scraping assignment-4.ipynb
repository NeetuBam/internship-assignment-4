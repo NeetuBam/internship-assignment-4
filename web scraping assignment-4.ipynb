{
 "cells": [
  {
   "cell_type": "markdown",
   "id": "17a2e262",
   "metadata": {},
   "source": [
    "# WEB SCRAPING ASSIGNMENT-4"
   ]
  },
  {
   "cell_type": "markdown",
   "id": "acb36295",
   "metadata": {},
   "source": [
    "ANSWER NO-1"
   ]
  },
  {
   "cell_type": "code",
   "execution_count": 1,
   "id": "636e874e",
   "metadata": {},
   "outputs": [],
   "source": [
    "#import liabraries\n",
    "from bs4 import BeautifulSoup\n",
    "import requests\n",
    "import selenium\n",
    "import pandas as pd\n",
    "from selenium import webdriver\n",
    "import warnings\n",
    "warnings.filterwarnings(\"ignore\")\n",
    "from selenium.webdriver.common.by import By\n",
    "import time\n",
    "from selenium.common.exceptions import StaleElementReferenceException, NoSuchElementException\n"
   ]
  },
  {
   "cell_type": "code",
   "execution_count": 2,
   "id": "d159ca90",
   "metadata": {},
   "outputs": [],
   "source": [
    "driver=webdriver.Chrome(r\"chromedriver.exe\")"
   ]
  },
  {
   "cell_type": "code",
   "execution_count": 3,
   "id": "5e38b92a",
   "metadata": {},
   "outputs": [],
   "source": [
    "driver.get(\"https://en.wikipedia.org/wiki/List_of_most-viewed_YouTube_videos\")"
   ]
  },
  {
   "cell_type": "code",
   "execution_count": 22,
   "id": "51fb01aa",
   "metadata": {},
   "outputs": [],
   "source": [
    "Video_name=[]\n",
    "try:\n",
    "    video_name=driver.find_elements(By.XPATH,\"//td[@class='td']\")\n",
    "    for i in video_name:\n",
    "        Video_name.append(i.text)\n",
    "except NoSuchElementException:\n",
    "    Video_name.append(\"-\")"
   ]
  },
  {
   "cell_type": "code",
   "execution_count": 23,
   "id": "815619d1",
   "metadata": {},
   "outputs": [
    {
     "name": "stdout",
     "output_type": "stream",
     "text": [
      "['1.', '\"Baby Shark Dance\"', \"Pinkfong Baby Shark - Kids' Songs & Stories\", '11.90', 'June 17, 2016', '', '2.', '\"Despacito\"', 'Luis Fonsi', '8.03', 'January 12, 2017', '', '3.', '\"Johny Johny Yes Papa\"', 'LooLoo Kids', '6.55', 'October 8, 2016', '', '4.', '\"Shape of You\"', 'Ed Sheeran', '5.86', 'January 30, 2017', '', '5.', '\"Bath Song\"', 'Cocomelon – Nursery Rhymes', '5.84', 'May 2, 2018', '', '6.', '\"See You Again\"', 'Wiz Khalifa', '5.72', 'April 6, 2015', '', '7.', '\"Phonics Song with Two Words\"', 'ChuChu TV', '5.05', 'March 6, 2014', '', '8.', '\"Uptown Funk\"', 'Mark Ronson', '4.77', 'November 19, 2014', '', '9.', '\"Learning Colors – Colorful Eggs on a Farm\"', 'Miroshka TV', '4.75', 'February 27, 2018', '', '10.', '\"Wheels on the Bus\"', 'Cocomelon – Nursery Rhymes', '4.72', 'May 24, 2018', '11.', '\"Gangnam Style\"', 'Psy', '4.62', 'July 15, 2012', '', '12.', '\"Masha and the Bear – Recipe for Disaster\"', 'Get Movies', '4.52', 'January 31, 2012', '', '13.', '\"Dame Tu Cosita\"', 'El Chombo', '4.16', 'April 5, 2018', '14.', '\"Sugar\"', 'Maroon 5', '3.79', 'January 14, 2015', '15.', '\"Roar\"', 'Katy Perry', '3.70', 'September 5, 2013', '16.', '\"Counting Stars\"', 'OneRepublic', '3.69', 'May 31, 2013', '17.', '\"Axel F\"', 'Crazy Frog', '3.64', 'June 16, 2009', '18.', '\"Sorry\"', 'Justin Bieber', '3.61', 'October 22, 2015', '19.', '\"Thinking Out Loud\"', 'Ed Sheeran', '3.53', 'October 7, 2014', '20.', '\"Baa Baa Black Sheep\"', 'Cocomelon – Nursery Rhymes', '3.45', 'June 25, 2018', '21.', '\"Dark Horse\"', 'Katy Perry', '3.41', 'February 20, 2014', '22.', '\"Faded\"', 'Alan Walker', '3.38', 'December 3, 2015', '23.', '\"Waka Waka (This Time for Africa)\"', 'Shakira', '3.36', 'June 4, 2010', '24.', '\"Let Her Go\"', 'Passenger', '3.35', 'July 25, 2012', '25.', '\"Girls Like You\"', 'Maroon 5', '3.35', 'May 31, 2018', '26.', '\"Perfect\"', 'Ed Sheeran', '3.32', 'November 9, 2017', '27.', '\"Bailando\"', 'Enrique Iglesias', '3.30', 'April 11, 2014', '28.', '\"Lean On\"', 'Major Lazer', '3.30', 'March 22, 2015', '29.', '\"Humpty the train on a fruits ride\"', 'Kiddiestv Hindi – Nursery Rhymes & Kids Songs', '3.25', 'January 26, 2018', '30.', '\"Shake It Off\"', 'Taylor Swift', '3.23', 'August 18, 2014']\n"
     ]
    }
   ],
   "source": [
    "print(Video_name)"
   ]
  },
  {
   "cell_type": "markdown",
   "id": "f0c91022",
   "metadata": {},
   "source": [
    "Answer no-2"
   ]
  },
  {
   "cell_type": "code",
   "execution_count": 11,
   "id": "66ebc0fb",
   "metadata": {},
   "outputs": [],
   "source": [
    "#import liabraries\n",
    "from bs4 import BeautifulSoup\n",
    "import requests\n",
    "import selenium\n",
    "import pandas as pd\n",
    "from selenium import webdriver\n",
    "import warnings\n",
    "warnings.filterwarnings(\"ignore\")\n",
    "from selenium.webdriver.common.by import By\n",
    "import time\n",
    "from selenium.common.exceptions import StaleElementReferenceException, NoSuchElementException\n"
   ]
  },
  {
   "cell_type": "code",
   "execution_count": 12,
   "id": "517b6ddc",
   "metadata": {},
   "outputs": [],
   "source": [
    "driver=webdriver.Chrome(r\"chromedriver.exe\")"
   ]
  },
  {
   "cell_type": "code",
   "execution_count": 13,
   "id": "862735b1",
   "metadata": {},
   "outputs": [],
   "source": [
    "driver.get(\"https://www.bcci.tv/.\")"
   ]
  },
  {
   "cell_type": "code",
   "execution_count": 25,
   "id": "aa559fb3",
   "metadata": {},
   "outputs": [],
   "source": [
    "Match_title=[]\n",
    "\n",
    "match=driver.find_elements(By.XPATH,\"//h5[@class='fix-text']\")\n",
    "for i in match:\n",
    "    match=i.text\n",
    "    Match_title.append(match)\n"
   ]
  },
  {
   "cell_type": "code",
   "execution_count": 26,
   "id": "b425809c",
   "metadata": {},
   "outputs": [
    {
     "name": "stdout",
     "output_type": "stream",
     "text": [
      "['INDIA WOMEN U19 TOUR OF SOUTH AFRICA WOMEN U19', 'SRI LANKA TOUR OF INDIA T20 SERIES 2022-23', 'SRI LANKA TOUR OF INDIA T20 SERIES 2022-23', 'SRI LANKA TOUR OF INDIA ODI SERIES 2022-23', '', '', '', '', '', '', '', '', '', '', '', '', '', '']\n"
     ]
    }
   ],
   "source": [
    "print(Match_title)"
   ]
  },
  {
   "cell_type": "code",
   "execution_count": 27,
   "id": "694611ab",
   "metadata": {},
   "outputs": [],
   "source": [
    "Series_tag=[]\n",
    "\n",
    "series=driver.find_elements(By.XPATH,\"//div[@class='match-mid-info d-flex justify-content-between']\")\n",
    "for i in series:\n",
    "    series=i.text\n",
    "    Series_tag.append(series)\n"
   ]
  },
  {
   "cell_type": "code",
   "execution_count": 28,
   "id": "63e6c8f5",
   "metadata": {},
   "outputs": [
    {
     "name": "stdout",
     "output_type": "stream",
     "text": [
      "['India Women U19\\nvs\\nSouth Africa Women U19', 'India\\nvs\\nSri Lanka', 'India\\nvs\\nSri Lanka', 'India\\nvs', '', '', '', '', '', '', '', '', '', '', '', '', '', '']\n"
     ]
    }
   ],
   "source": [
    "print(Series_tag)"
   ]
  },
  {
   "cell_type": "code",
   "execution_count": 31,
   "id": "4ad72ce6",
   "metadata": {},
   "outputs": [],
   "source": [
    "Date_tag=[]\n",
    "\n",
    "date=driver.find_elements(By.XPATH,\"//div[@class='match-top-info d-flex align-items-center justify-content-between']\")\n",
    "for i in date:\n",
    "    date=i.text\n",
    "    Date_tag.append(date)\n"
   ]
  },
  {
   "cell_type": "code",
   "execution_count": 32,
   "id": "058fe43a",
   "metadata": {},
   "outputs": [
    {
     "name": "stdout",
     "output_type": "stream",
     "text": [
      "['4 JAN 2023\\n1:30 PM IST', '5 JAN 2023\\n7:00 PM IST', '7 JAN 2023\\n7:00 PM IST', '10 JAN 2023\\n1:30 PM IST', '12 JAN 2023\\n1:30 PM IST', '15 JAN 2023\\n1:30 PM IST', '18 JAN 2023\\n1:30 PM IST', '21 JAN 2023\\n1:30 PM IST']\n"
     ]
    }
   ],
   "source": [
    "print(Date_tag)"
   ]
  },
  {
   "cell_type": "code",
   "execution_count": 33,
   "id": "41bb2102",
   "metadata": {},
   "outputs": [],
   "source": [
    "Place_tag=[]\n",
    "\n",
    "place=driver.find_elements(By.XPATH,\"//div[@class='fix-place ng-binding ng-scope']\")\n",
    "for i in place:\n",
    "    place=i.text\n",
    "    Place_tag.append(place)"
   ]
  },
  {
   "cell_type": "code",
   "execution_count": 34,
   "id": "40cf047f",
   "metadata": {},
   "outputs": [
    {
     "name": "stdout",
     "output_type": "stream",
     "text": [
      "['5th T20I - Steyn City School Ground, Pretoria', '2nd T20I - Maharashtra Cricket Association Stadium, Pune', '3rd T20I - Saurashtra Cricket Association Stadium, Rajkot', '1st ODI - Barsapara Cricket Stadium, Guwahati', '2nd ODI - Eden Gardens, Kolkata', '3rd ODI - Greenfield International Stadium, Thiruvananthapuram', '1st ODI - Rajiv Gandhi International Stadium, Hyderabad', '2nd ODI - Shaheed Veer Narayan Singh International Cricket Stadium, Raipur']\n"
     ]
    }
   ],
   "source": [
    "print(Place_tag)"
   ]
  },
  {
   "cell_type": "code",
   "execution_count": null,
   "id": "30f966cc",
   "metadata": {},
   "outputs": [],
   "source": []
  },
  {
   "cell_type": "markdown",
   "id": "ffc9833d",
   "metadata": {},
   "source": [
    "Answer no-3"
   ]
  },
  {
   "cell_type": "code",
   "execution_count": 11,
   "id": "86e9aee2",
   "metadata": {},
   "outputs": [],
   "source": [
    "import selenium\n",
    "import pandas as pd\n",
    "from selenium import webdriver\n",
    "import warnings\n",
    "warnings.filterwarnings('ignore')\n",
    "from selenium.webdriver.common.by import By\n",
    "import time"
   ]
  },
  {
   "cell_type": "code",
   "execution_count": 12,
   "id": "dbd4a6d7",
   "metadata": {},
   "outputs": [],
   "source": [
    "driver=webdriver.Chrome(r\"chromedriver.exe\")"
   ]
  },
  {
   "cell_type": "code",
   "execution_count": 13,
   "id": "8256f658",
   "metadata": {},
   "outputs": [],
   "source": [
    "driver.get(\"https://www.guru99.com/\")"
   ]
  },
  {
   "cell_type": "code",
   "execution_count": 15,
   "id": "c8116ed3",
   "metadata": {},
   "outputs": [],
   "source": [
    "input_=driver.find_element(By.XPATH,\"//input[@id='gsc-i-id1']\")\n",
    "input_.send_keys(\"Selenium Exception Hendling\")"
   ]
  },
  {
   "cell_type": "code",
   "execution_count": 16,
   "id": "96da9399",
   "metadata": {},
   "outputs": [],
   "source": [
    "search=driver.find_element(By.XPATH,\"//button[@class='gsc-search-button gsc-search-button-v2']\")\n",
    "search.click()"
   ]
  },
  {
   "cell_type": "code",
   "execution_count": 17,
   "id": "6c32dfec",
   "metadata": {},
   "outputs": [],
   "source": [
    "Name=[]\n",
    "name=driver.find_elements(By.XPATH,\"//div[@class='gsc-url-top']\")\n",
    "for i in name:\n",
    "    name=i.text\n",
    "    Name.append(name)"
   ]
  },
  {
   "cell_type": "code",
   "execution_count": 18,
   "id": "95dce138",
   "metadata": {},
   "outputs": [
    {
     "data": {
      "text/plain": [
       "11"
      ]
     },
     "execution_count": 18,
     "metadata": {},
     "output_type": "execute_result"
    }
   ],
   "source": [
    "len(Name)"
   ]
  },
  {
   "cell_type": "code",
   "execution_count": 19,
   "id": "0835512f",
   "metadata": {},
   "outputs": [
    {
     "name": "stdout",
     "output_type": "stream",
     "text": [
      "['Guru99 › exception-handling-selenium', 'Guru99 › ssl-certificate-error-handling-selenium', 'Guru99 › java-exception-handling', 'Guru99 › try-catch-finally-vb-net', 'Guru99 › cpp-exceptions-handling', 'Guru99 › python-exception-handling', 'Guru99 › exception-handling-pl-sql', 'Guru99 › error-handling-and-exceptions', 'Guru99 › jsp-exception-handling', 'Guru99 › alert-popup-handling-selenium', '']\n"
     ]
    }
   ],
   "source": [
    "print(Name)"
   ]
  },
  {
   "cell_type": "code",
   "execution_count": 20,
   "id": "03d3992b",
   "metadata": {},
   "outputs": [],
   "source": [
    "Description=[]\n",
    "description=driver.find_elements(By.XPATH,\"//div[@class='gs-bidi-start-align gs-snippet']\")\n",
    "for i in description:\n",
    "    description=i.text\n",
    "    Description.append(description)"
   ]
  },
  {
   "cell_type": "code",
   "execution_count": 21,
   "id": "17e59c21",
   "metadata": {},
   "outputs": [
    {
     "data": {
      "text/plain": [
       "11"
      ]
     },
     "execution_count": 21,
     "metadata": {},
     "output_type": "execute_result"
    }
   ],
   "source": [
    "len(Description)"
   ]
  },
  {
   "cell_type": "code",
   "execution_count": 22,
   "id": "872d2576",
   "metadata": {},
   "outputs": [
    {
     "name": "stdout",
     "output_type": "stream",
     "text": [
      "['How to Handling Exceptions in Selenium · Step 1) Try-catch · Step 2) Multiple catch blocks · Step 3) Throw · Step 4) Multiple Exceptions · Step 5) Finally.', 'For handling SSL certificate error in Firefox, we need to use desired capabilities of Selenium Webdriver and follow the following steps.', '05-Nov-2022 ... All these errors are highlighted when you compile the code. Runtime Errors Example. A Runtime error is called an Exceptions error. It is any ...', '24-Dec-2022 ... In this VB.Net Exception Handling tutorial, we will learn What is Exception Handling in VB.Net with Try, Catch, Finally, & Throw Exception ...', '12-Nov-2022 ... Next, the exception handler will take over control of the program. In case no exceptional circumstance occurs, the code will execute normally.', '12-Nov-2022 ... In this Python exceptional handling tutorial, you will learn Exceptional Handling Mechanism(Try, Catch, Finally), Rules of Exceptions, ...', '19-Nov-2022 ... In this tutorial, we learn Oracle PL/SQL Exception Handling with Examples. We also learn types of Exception, Predefined and User-defined ...', '03-Dec-2022 ... Learn with example Exception & Error handling using try catch blocks for thrown exceptions, Multiple Exceptions.', '29-Oct-2022 ... In this tutorial, we will learn What is Exception & Exception Handling in JSP, JSP Exception Types & How to Handle Exception in JSP with Try ...', '7 days ago ... It notifies the user with some specific information or error, ... We will also see how to handle Alert in Selenium WebDriver and learn how ...', '']\n"
     ]
    }
   ],
   "source": [
    "print(Description)"
   ]
  },
  {
   "cell_type": "markdown",
   "id": "aa17b79f",
   "metadata": {},
   "source": [
    "Answer no-4"
   ]
  },
  {
   "cell_type": "code",
   "execution_count": 23,
   "id": "8a1aee19",
   "metadata": {},
   "outputs": [],
   "source": [
    "import selenium\n",
    "import pandas as pd\n",
    "from selenium import webdriver\n",
    "import warnings\n",
    "warnings.filterwarnings('ignore')\n",
    "from selenium.webdriver.common.by import By\n",
    "import time"
   ]
  },
  {
   "cell_type": "code",
   "execution_count": 24,
   "id": "3d812b9a",
   "metadata": {},
   "outputs": [],
   "source": [
    "driver=webdriver.Chrome(r\"chromedriver.exe\")"
   ]
  },
  {
   "cell_type": "code",
   "execution_count": 25,
   "id": "3b71bb46",
   "metadata": {},
   "outputs": [],
   "source": [
    "driver.get(\"https://www.statisticstimes.com/economy/india/indian-states-gdp.php\")"
   ]
  },
  {
   "cell_type": "code",
   "execution_count": 26,
   "id": "c2ac29ca",
   "metadata": {},
   "outputs": [],
   "source": [
    "Table=[]\n",
    "table=driver.find_elements(By.XPATH,\"//table[@class='display dataTable']\")\n",
    "for i in table:\n",
    "    table=i.text\n",
    "    Table.append(table)"
   ]
  },
  {
   "cell_type": "code",
   "execution_count": 27,
   "id": "f7512b2f",
   "metadata": {},
   "outputs": [
    {
     "name": "stdout",
     "output_type": "stream",
     "text": [
      "['GSDP\\nRank State GSDP (Cr INR at Current prices) Share GDP ($billion) GSDP (Cr INR at 2011-12 prices)\\n19-20 18-19 18-19 2019 19-20 18-19\\n1 Maharashtra - 2,632,792 13.94% 399.921 - 2,039,074\\n2 Tamil Nadu 1,845,853 1,630,208 8.63% 247.629 1,312,929 1,215,307\\n3 Uttar Pradesh 1,687,818 1,584,764 8.39% 240.726 1,166,817 1,123,982\\n4 Gujarat - 1,502,899 7.96% 228.290 - 1,186,379\\n5 Karnataka 1,631,977 1,493,127 7.91% 226.806 1,156,039 1,091,077\\n6 West Bengal 1,253,832 1,089,898 5.77% 165.556 793,223 739,525\\n7 Rajasthan 1,020,989 942,586 4.99% 143.179 711,627 677,428\\n8 Andhra Pradesh 972,782 862,957 4.57% 131.083 672,018 621,301\\n9 Telangana 969,604 861,031 4.56% 130.791 663,258 612,828\\n10 Madhya Pradesh 906,672 809,592 4.29% 122.977 561,801 522,009\\n11 Kerala - 781,653 4.14% 118.733 - 559,412\\n12 Delhi 856,112 774,870 4.10% 117.703 634,408 590,569\\n13 Haryana 831,610 734,163 3.89% 111.519 572,240 531,085\\n14 Bihar 611,804 530,363 2.81% 80.562 414,977 375,651\\n15 Punjab 574,760 526,376 2.79% 79.957 418,868 397,669\\n16 Odisha 521,275 487,805 2.58% 74.098 396,499 376,877\\n17 Assam - 315,881 1.67% 47.982 - 234,048\\n18 Chhattisgarh 329,180 304,063 1.61% 46.187 243,477 231,182\\n19 Jharkhand 328,598 297,204 1.57% 45.145 240,036 224,986\\n20 Uttarakhand - 245,895 1.30% 37.351 - 193,273\\n21 Jammu & Kashmir - 155,956 0.83% 23.690 - 112,755\\n22 Himachal Pradesh 165,472 153,845 0.81% 23.369 124,403 117,851\\n23 Goa 80,449 73,170 0.39% 11.115 63,408 57,787\\n24 Tripura 55,984 49,845 0.26% 7.571 40,583 36,963\\n25 Chandigarh - 42,114 0.22% 6.397 - 31,192\\n26 Puducherry 38,253 34,433 0.18% 5.230 25,093 23,013\\n27 Meghalaya 36,572 33,481 0.18% 5.086 26,695 24,682\\n28 Sikkim 32,496 28,723 0.15% 4.363 20,017 18,722\\n29 Manipur 31,790 27,870 0.15% 4.233 20,673 19,300\\n30 Nagaland - 27,283 0.14% 4.144 - 17,647\\n31 Arunachal Pradesh - 24,603 0.13% 3.737 - 16,676\\n32 Mizoram 26,503 22,287 0.12% 3.385 18,797 16,478\\n33 Andaman & Nicobar Islands - - - - - -\\nIndia 20,351,013 18,886,957 2,869 14,569,268 14,003,316', 'NSDP\\nRank State NSDP (Cr INR at Current prices) Share NSDP (Cr INR at 2011-12 prices)\\n19-20 18-19 18-19 19-20 18-19\\n1 Maharashtra - 2,332,992 13.97% - 1,794,123\\n2 Tamil Nadu 1,659,210 1,465,361 8.77% 1,167,776 1,079,894\\n3 Uttar Pradesh 1,495,758 1,404,761 8.41% 1,015,735 979,159\\n4 Karnataka 1,476,983 1,351,553 8.09% 1,035,131 976,948\\n5 Gujarat - 1,322,936 7.92% - 1,036,859\\n6 West Bengal 1,150,711 995,502 5.96% 713,376 662,432\\n7 Rajasthan 916,014 845,247 5.06% 630,693 600,433\\n8 Telangana 881,873 782,370 4.68% 594,806 549,481\\n9 Andhra Pradesh 875,429 776,140 4.65% 595,605 550,584\\n10 Madhya Pradesh 827,019 737,156 4.41% 496,798 461,903\\n11 Kerala - 707,542 4.24% - 513,322\\n12 Delhi 779,647 704,529 4.22% 568,265 529,739\\n13 Haryana 755,790 666,075 3.99% 514,983 477,834\\n14 Bihar 562,710 486,776 2.91% 377,276 340,512\\n15 Punjab 517,521 472,506 2.83% 374,015 354,830\\n16 Odisha 457,757 428,031 2.56% 344,437 327,805\\n17 Assam - 282,782 1.69% - 207,193\\n18 Jharkhand 301,242 271,990 1.63% 218,232 204,423\\n19 Chhattisgarh 288,041 266,537 1.60% 210,837 200,453\\n20 Uttarakhand - 221,871 1.33% - 173,211\\n21 Himachal Pradesh 143,063 133,303 0.80% 107,171 101,534\\n22 Jammu & Kashmir - 129,877 0.78% - 91,666\\n23 Goa 72,181 66,060 0.40% 56,810 51,878\\n24 Tripura 50,227 44,835 0.27% 35,980 32,830\\n25 Chandigarh - 37,571 0.22% - 27,565\\n26 Puducherry 34,823 31,415 0.19% 22,291 20,534\\n27 Meghalaya 32,833 29,544 0.18% 23,564 21,779\\n28 Manipur 29,148 25,323 0.15% 18,549 17,228\\n29 Sikkim 28,391 25,141 0.15% 17,060 15,972\\n30 Nagaland - 24,534 0.15% - 15,381\\n31 Arunachal Pradesh - 22,488 0.13% - 15,013\\n32 Mizoram 24,424 20,947 0.13% 17,797 15,372\\n33 Andaman & Nicobar Islands - - - - -\\nIndia 17,994,301 16,704,645 12,681,246 12,240,380']\n"
     ]
    }
   ],
   "source": [
    "print(Table)"
   ]
  },
  {
   "cell_type": "markdown",
   "id": "f7b06216",
   "metadata": {},
   "source": [
    "Answer no-5"
   ]
  },
  {
   "cell_type": "code",
   "execution_count": 28,
   "id": "48f1c5a8",
   "metadata": {},
   "outputs": [],
   "source": [
    "import selenium\n",
    "import pandas as pd\n",
    "from selenium import webdriver\n",
    "import warnings\n",
    "warnings.filterwarnings('ignore')\n",
    "from selenium.webdriver.common.by import By\n",
    "import time"
   ]
  },
  {
   "cell_type": "code",
   "execution_count": 29,
   "id": "2deb3dd4",
   "metadata": {},
   "outputs": [],
   "source": [
    "driver=webdriver.Chrome(r\"chromedriver.exe\")"
   ]
  },
  {
   "cell_type": "code",
   "execution_count": 37,
   "id": "5993f4a1",
   "metadata": {},
   "outputs": [],
   "source": [
    "driver.get(\"https://github.com/trending\")"
   ]
  },
  {
   "cell_type": "code",
   "execution_count": 41,
   "id": "97d8756f",
   "metadata": {},
   "outputs": [],
   "source": [
    "Repository_description=[]\n",
    "repository=driver.find_elements(By.XPATH,\"//p[@class='col-9 color-fg-muted my-1 pr-4']\")\n",
    "for i in repository:\n",
    "    repository=i.text\n",
    "    Repository_description.append(repository)"
   ]
  },
  {
   "cell_type": "code",
   "execution_count": 42,
   "id": "5f099077",
   "metadata": {},
   "outputs": [
    {
     "data": {
      "text/plain": [
       "25"
      ]
     },
     "execution_count": 42,
     "metadata": {},
     "output_type": "execute_result"
    }
   ],
   "source": [
    "len(Repository_description)"
   ]
  },
  {
   "cell_type": "code",
   "execution_count": 43,
   "id": "4845711b",
   "metadata": {},
   "outputs": [
    {
     "name": "stdout",
     "output_type": "stream",
     "text": [
      "['A one-of-a-kind resume builder that keeps your privacy in mind. Completely secure, customizable, portable, open-source and free forever. Try it out today!', 'A curated list of awesome Python frameworks, libraries, software and resources', '经济学人(含音频)、纽约客、卫报、连线、大西洋月刊等英语杂志免费下载,支持epub、mobi、pdf格式, 每周更新', 'OpenAssistant is a chat-based assistant that understands tasks, can interact with third-party systems, and retrieve information dynamically to do so.', 'Cramming the training of a (BERT-type) language model into limited compute.', 'JavaScript Style Guide', 'Implementation of RLHF (Reinforcement Learning with Human Feedback) on top of the PaLM architecture. Basically ChatGPT but with PaLM', '中文独立博客列表', 'Alibaba Java Diagnostic Tool Arthas/Alibaba Java诊断利器Arthas', 'Playground (and dump) of stuff I make or modify for the Flipper Zero', 'notes for my AI studies, writing, and product brainstorming', 'a lightweight cms self-hosted on cloudflare, for podcasts, blogs, photos, videos, documents, and curated urls.', '[NeurIPS 2022] Towards Robust Blind Face Restoration with Codebook Lookup Transformer', '肥羊的4K/8K超高清IPTV直播源&&直播代码仓库', 'The instant on-demand atomic CSS engine.', '☁️ Nextcloud server, a safe home for all your data', 'An index created by GPT to organize external information and answer queries!', 'Vulnerability scanner written in Go which uses the data provided by https://osv.dev', '🆙 Upscayl - Free and Open Source AI Image Upscaler for Linux, MacOS and Windows built with Linux-First philosophy.', 'A curated list of software and architecture related design patterns.', '🤖 ChatGPT Desktop Application (Mac, Windows and Linux)', '🚀 An open-source modification of Windows 10, designed to optimize performance, and latency.', '🚀 Strapi is the leading open-source headless CMS. It’s 100% JavaScript, fully customizable and developer-first.', '分享 GitHub 上有趣、入门级的开源项目。Share interesting, entry-level open source projects on GitHub.', 'A command line tool and library for transferring data with URL syntax, supporting DICT, FILE, FTP, FTPS, GOPHER, GOPHERS, HTTP, HTTPS, IMAP, IMAPS, LDAP, LDAPS, MQTT, POP3, POP3S, RTMP, RTMPS, RTSP, SCP, SFTP, SMB, SMBS, SMTP, SMTPS, TELNET, TFTP, WS and WSS. libcurl offers a myriad of powerful features']\n"
     ]
    }
   ],
   "source": [
    "print(Repository_description)"
   ]
  },
  {
   "cell_type": "code",
   "execution_count": 46,
   "id": "8491314b",
   "metadata": {},
   "outputs": [],
   "source": [
    "Repository_title=[]\n",
    "repository=driver.find_elements(By.XPATH,\"//span[@class='text-normal']\")\n",
    "for i in repository:\n",
    "    repository=i.text\n",
    "    Repository_title.append(repository)"
   ]
  },
  {
   "cell_type": "code",
   "execution_count": 47,
   "id": "9a3734b2",
   "metadata": {},
   "outputs": [
    {
     "data": {
      "text/plain": [
       "25"
      ]
     },
     "execution_count": 47,
     "metadata": {},
     "output_type": "execute_result"
    }
   ],
   "source": [
    "len(Repository_title)"
   ]
  },
  {
   "cell_type": "code",
   "execution_count": 48,
   "id": "9846d0ab",
   "metadata": {},
   "outputs": [
    {
     "name": "stdout",
     "output_type": "stream",
     "text": [
      "['AmruthPillai /', 'vinta /', 'hehonghui /', 'LAION-AI /', 'JonasGeiping /', 'airbnb /', 'lucidrains /', 'timqian /', 'alibaba /', 'UberGuidoZ /', 'sw-yx /', 'microfeed /', 'sczhou /', 'youshandefeiyang /', 'unocss /', 'nextcloud /', 'jerryjliu /', 'google /', 'upscayl /', 'DovAmir /', 'lencx /', 'Atlas-OS /', 'strapi /', '521xueweihan /', 'curl /']\n"
     ]
    }
   ],
   "source": [
    "print(Repository_title)"
   ]
  },
  {
   "cell_type": "code",
   "execution_count": 70,
   "id": "74a4f052",
   "metadata": {},
   "outputs": [],
   "source": [
    "Language=[]\n",
    "language=driver.find_elements(By.XPATH,\"//span[@itemprop='programmingLanguage']\")\n",
    "for i in language:\n",
    "    language=i.text\n",
    "    Language.append(language)"
   ]
  },
  {
   "cell_type": "code",
   "execution_count": 71,
   "id": "8b110d17",
   "metadata": {},
   "outputs": [
    {
     "name": "stdout",
     "output_type": "stream",
     "text": [
      "['TypeScript', 'Python', 'CSS', 'Jupyter Notebook', 'Python', 'JavaScript', 'Python', 'JavaScript', 'Java', 'C', 'JavaScript', 'JavaScript', 'Python', 'TypeScript', 'PHP', 'Python', 'Go', 'TypeScript', 'Rust', 'Batchfile', 'JavaScript', 'Python', 'C']\n"
     ]
    }
   ],
   "source": [
    "print(Language)"
   ]
  },
  {
   "cell_type": "markdown",
   "id": "6e6caa91",
   "metadata": {},
   "source": [
    "Answer no-6"
   ]
  },
  {
   "cell_type": "code",
   "execution_count": 1,
   "id": "5d9e50d9",
   "metadata": {},
   "outputs": [],
   "source": [
    "import selenium\n",
    "import pandas as pd\n",
    "from selenium import webdriver\n",
    "import warnings\n",
    "warnings.filterwarnings('ignore')\n",
    "from selenium.webdriver.common.by import By\n",
    "import time"
   ]
  },
  {
   "cell_type": "code",
   "execution_count": 2,
   "id": "41655e42",
   "metadata": {},
   "outputs": [],
   "source": [
    "driver=webdriver.Chrome(r\"chromedriver.exe\")"
   ]
  },
  {
   "cell_type": "code",
   "execution_count": 3,
   "id": "cb2852c4",
   "metadata": {},
   "outputs": [],
   "source": [
    "driver.get(\"https://www.billboard.com/charts/hot-100/\")"
   ]
  },
  {
   "cell_type": "code",
   "execution_count": 4,
   "id": "a03c95db",
   "metadata": {},
   "outputs": [],
   "source": [
    "Name=[]\n",
    "name=driver.find_elements(By.XPATH,\"//div[@class='o-chart-results-list-row-container']\")\n",
    "for i in name:\n",
    "    name=i.text\n",
    "    Name.append(name)"
   ]
  },
  {
   "cell_type": "code",
   "execution_count": 5,
   "id": "c769a4f5",
   "metadata": {},
   "outputs": [
    {
     "name": "stdout",
     "output_type": "stream",
     "text": [
      "['1\\nAll I Want For Christmas Is You\\nMariah Carey\\n1\\n1\\n57', \"2\\nRockin' Around The Christmas Tree\\nBrenda Lee\\n2\\n2\\n51\", '3\\nJingle Bell Rock\\nBobby Helms\\n4\\n3\\n48', '4\\nA Holly Jolly Christmas\\nBurl Ives\\n5\\n4\\n31', '5\\nLast Christmas\\nWham!\\n6\\n5\\n30', \"6\\nIt's The Most Wonderful Time Of The Year\\nAndy Williams\\n8\\n5\\n32\", '7\\nKill Bill\\nSZA\\n3\\n3\\n2', '8\\nFeliz Navidad\\nJose Feliciano\\n11\\n6\\n25', '9\\nAnti-Hero\\nTaylor Swift\\n7\\n1\\n9', '10\\nUnholy\\nSam Smith & Kim Petras\\n9\\n1\\n13', '11\\nThe Christmas Song (Merry Christmas To You)\\nNat King Cole\\n15\\n11\\n37', '12\\nSanta Tell Me\\nAriana Grande\\n19\\n12\\n17', '13\\nSleigh Ride\\nThe Ronettes\\n16\\n10\\n21', '14\\nUnderneath The Tree\\nKelly Clarkson\\n20\\n12\\n20', '15\\nChristmas (Baby Please Come Home)\\nDarlene Love\\n25\\n15\\n16', '16\\nDeck The Halls\\nNat King Cole\\n31\\n16\\n7', '17\\nLet It Snow, Let It Snow, Let It Snow\\nDean Martin\\n22\\n8\\n24', '18\\nWhite Christmas\\nBing Crosby\\n27\\n12\\n29', \"19\\nCreepin'\\nMetro Boomin, The Weeknd & 21 Savage\\n13\\n5\\n3\", '20\\nRich Flex\\nDrake & 21 Savage\\n14\\n2\\n7', \"21\\nIt's Beginning To Look A Lot Like Christmas\\nMichael Buble\\n35\\n20\\n14\", '22\\nJingle Bells\\nFrank Sinatra\\n36\\n22\\n8', \"23\\nI'm Good (Blue)\\nDavid Guetta & Bebe Rexha\\n26\\n7\\n17\", \"24\\nIt's Beginning To Look A Lot Like Christmas\\nPerry Como And The Fontane Sisters With Mitchell Ayres And His Orchestra\\n23\\n12\\n17\", '25\\nHere Comes Santa Claus (Right Down Santa Claus Lane)\\nGene Autry\\n39\\n25\\n14', '26\\nDie For You\\nThe Weeknd\\n33\\n12\\n21', '27\\nBlue Christmas\\nElvis Presley\\n41\\n27\\n7', '28\\nRudolph The Red-Nosed Reindeer\\nGene Autry\\n47\\n16\\n21', '29\\nBad Habit\\nSteve Lacy\\n28\\n1\\n25', '30\\nRE- ENTRY\\nLittle Saint Nick\\nThe Beach Boys\\n-\\n30\\n3', \"31\\nRE- ENTRY\\nYou're A Mean One, Mr. Grinch\\nThurl Ravenscroft\\n-\\n31\\n6\", '32\\nRE- ENTRY\\nWonderful Christmastime\\nPaul McCartney\\n-\\n28\\n7', \"33\\nSanta Claus Is Comin' To Town\\nJackson 5\\n48\\n33\\n5\", '34\\nRun Rudolph Run\\nChuck Berry\\n46\\n10\\n16', '35\\nAs It Was\\nHarry Styles\\n38\\n1\\n38', '36\\nShirt\\nSZA\\n18\\n11\\n8', '37\\nUnder The Influence\\nChris Brown\\n45\\n14\\n15', '38\\nRE- ENTRY\\nHappy Xmas (War Is Over)\\nJohn & Yoko/The Plastic Ono Band With The Harlem Community Choir\\n-\\n38\\n3', '39\\nCuff It\\nBeyonce\\n42\\n13\\n19', '40\\nRE- ENTRY\\nHappy Holiday / The Holiday Season\\nAndy Williams\\n-\\n18\\n14', '41\\nSuperhero (Heroes & Villains)\\nMetro Boomin, Future & Chris Brown\\n34\\n8\\n3', '42\\nRE- ENTRY\\nMerry Christmas\\nEd Sheeran & Elton John\\n-\\n42\\n5', '43\\nNobody Gets Me\\nSZA\\n10\\n10\\n2', '44\\nRE- ENTRY\\nPlease Come Home For Christmas\\nEagles\\n-\\n18\\n11', '45\\nRE- ENTRY\\nSanta Baby\\nEartha Kitt With Henri Rene And His Orchestra\\n-\\n35\\n4', '46\\nYou Proof\\nMorgan Wallen\\n49\\n5\\n32', '47\\nRE- ENTRY\\nThis Christmas\\nDonny Hathaway\\n-\\n39\\n2', '48\\nBlind\\nSZA\\n12\\n12\\n2', '49\\nRE- ENTRY\\nLinus And Lucy (Peanuts Theme)\\nVince Guaraldi Trio\\n-\\n37\\n2', '50\\nSomething In The Orange\\nZach Bryan\\n53\\n12\\n35', '51\\nMade You Look\\nMeghan Trainor\\n50\\n24\\n9', '52\\nLow\\nSZA\\n17\\n17\\n2', '53\\nSuper Freaky Girl\\nNicki Minaj\\n56\\n1\\n19', '54\\nGolden Hour\\nJVKE\\n59\\n35\\n17', '55\\nJust Wanna Rock\\nLil Uzi Vert\\n60\\n21\\n10', '56\\nTomorrow 2\\nGloRilla & Cardi B\\n57\\n9\\n13', '57\\nLift Me Up\\nRihanna\\n51\\n2\\n8', '58\\nLove Language\\nSZA\\n21\\n21\\n2', '59\\nSomeday At Christmas\\nLizzo\\n73\\n59\\n4', '60\\nThank God\\nKane Brown With Katelyn Brown\\n63\\n22\\n15', '61\\nSnooze\\nSZA\\n29\\n29\\n2', '62\\nUntil I Found You\\nStephen Sanchez\\n64\\n38\\n25', '63\\nSeek & Destroy\\nSZA\\n24\\n24\\n2', '64\\nRock And A Hard Place\\nBailey Zimmerman\\n66\\n24\\n28', '65\\nWhat My World Spins Around\\nJordan Davis\\n69\\n41\\n19', \"66\\nVictoria's Secret\\nJax\\n67\\n35\\n21\", '67\\nLavender Haze\\nTaylor Swift\\n65\\n2\\n9', '68\\nSon Of A Sinner\\nJelly Roll\\n70\\n31\\n25', '69\\nWait In The Truck\\nHARDY Featuring Lainey Wilson\\n72\\n51\\n16', '70\\nUsed\\nSZA Featuring Don Toliver\\n30\\n30\\n2', '71\\nSpecial\\nSZA\\n37\\n37\\n2', '72\\nEscapism\\nRAYE Featuring 070 Shake\\n79\\n72\\n3', '73\\nGoing, Going, Gone\\nLuke Combs\\n88\\n73\\n6', '74\\nHeart Like A Truck\\nLainey Wilson\\n82\\n74\\n6', '75\\nGhost In The Machine\\nSZA Featuring Phoebe Bridgers\\n40\\n40\\n2', '76\\nBlue Christmas\\nKane Brown\\n84\\n76\\n3', \"77\\nStar Walkin' (League Of Legends Worlds Anthem)\\nLil Nas X\\n75\\n32\\n13\", \"78\\nSanta, Can't You Hear Me\\nKelly Clarkson & Ariana Grande\\n92\\n78\\n3\", '79\\nSOS\\nSZA\\n32\\n32\\n2', '80\\nWhiskey On You\\nNate Smith\\n80\\n44\\n27', '81\\nLast Christmas\\nLauren Spencer-Smith\\n94\\n81\\n4', '82\\nGone Girl\\nSZA\\n43\\n43\\n2', '83\\nCalm Down\\nRema & Selena Gomez\\n83\\n74\\n16', '84\\nToo Many Nights\\nMetro Boomin Featuring Don Toliver & Future\\n68\\n22\\n3', '85\\nNotice Me\\nSZA\\n44\\n44\\n2', '86\\nOpen Arms\\nSZA Featuring Travis Scott\\n54\\n54\\n2', '87\\nSpin Bout U\\nDrake & 21 Savage\\n78\\n5\\n7', '88\\nSmoking On My Ex Pack\\nSZA\\n52\\n52\\n2', '89\\nNiagara Falls (Foot Or 2)\\nMetro Boomin, Travis Scott & 21 Savage\\n71\\n27\\n3', '90\\nCirco Loco\\nDrake & 21 Savage\\n87\\n8\\n7', '91\\nF2F\\nSZA\\n55\\n55\\n2', '92\\nNEW\\nFace 2 Face\\nJuice WRLD\\n-\\n92\\n1', '93\\nNEW\\nKid On Christmas\\nPentatonix Featuring Meghan Trainor\\n-\\n93\\n1', '94\\nRomantic Homicide\\nd4vd\\n86\\n33\\n16', '95\\nConceited\\nSZA\\n58\\n58\\n2', '96\\nRE- ENTRY\\nDown Home\\nJimmie Allen\\n-\\n88\\n5', '97\\nOne Thing At A Time\\nMorgan Wallen\\n81\\n37\\n3', '98\\nHold Me Closer\\nElton John & Britney Spears\\n89\\n6\\n17', '99\\nFar\\nSZA\\n61\\n61\\n2', '100\\nAll Mine\\nBrent Faiyaz\\n95\\n42\\n20']\n"
     ]
    }
   ],
   "source": [
    "print(Name)"
   ]
  },
  {
   "cell_type": "markdown",
   "id": "7f772db6",
   "metadata": {},
   "source": [
    "Answer No-7"
   ]
  },
  {
   "cell_type": "code",
   "execution_count": 1,
   "id": "ed3c4e34",
   "metadata": {},
   "outputs": [],
   "source": [
    "import selenium\n",
    "import pandas as pd\n",
    "from selenium import webdriver\n",
    "import warnings\n",
    "warnings.filterwarnings('ignore')\n",
    "from selenium.webdriver.common.by import By\n",
    "import time"
   ]
  },
  {
   "cell_type": "code",
   "execution_count": 2,
   "id": "8cde777b",
   "metadata": {},
   "outputs": [],
   "source": [
    "driver=webdriver.Chrome(r\"chromedriver.exe\")"
   ]
  },
  {
   "cell_type": "code",
   "execution_count": 3,
   "id": "379b04d1",
   "metadata": {},
   "outputs": [],
   "source": [
    "driver.get(\"https://www.naukri.com/hr-recruiters-consultants\")"
   ]
  },
  {
   "cell_type": "code",
   "execution_count": 4,
   "id": "4e546516",
   "metadata": {},
   "outputs": [],
   "source": [
    "designation=driver.find_element(By.CLASS_NAME,\"sugInp\")\n",
    "designation.send_keys('Data Science recruiters')"
   ]
  },
  {
   "cell_type": "code",
   "execution_count": 5,
   "id": "0e636937",
   "metadata": {},
   "outputs": [],
   "source": [
    "location=driver.find_element(By.XPATH,\"/html/body/div[2]/div[2]/div[1]/div[1]/form/div[1]/div/div[2]/div[1]/div[2]/input\")\n",
    "location.send_keys(\"Delhi/NCR\")"
   ]
  },
  {
   "cell_type": "code",
   "execution_count": 6,
   "id": "fd3adb01",
   "metadata": {},
   "outputs": [],
   "source": [
    "search=driver.find_element(By.XPATH,\"/html/body/div[2]/div[2]/div[1]/div[1]/form/div[1]/button\")\n",
    "search.click()"
   ]
  },
  {
   "cell_type": "code",
   "execution_count": 17,
   "id": "a0e766cd",
   "metadata": {},
   "outputs": [],
   "source": [
    "Name_tag=[]\n",
    "Designation=[]\n",
    "Skills_they_hire_for=[]\n",
    "Location=[]"
   ]
  },
  {
   "cell_type": "code",
   "execution_count": 18,
   "id": "b7a78e86",
   "metadata": {},
   "outputs": [],
   "source": [
    "#scrape Name_tag\n",
    "name=driver.find_elements(By.XPATH,\"//span[@class='fl ellipsis']\")\n",
    "for i in name:\n",
    "    name=i.text\n",
    "    Name_tag.append(name)"
   ]
  },
  {
   "cell_type": "code",
   "execution_count": 19,
   "id": "f16b2407",
   "metadata": {},
   "outputs": [
    {
     "data": {
      "text/plain": [
       "50"
      ]
     },
     "execution_count": 19,
     "metadata": {},
     "output_type": "execute_result"
    }
   ],
   "source": [
    "len(Name_tag)"
   ]
  },
  {
   "cell_type": "code",
   "execution_count": 20,
   "id": "6d0fd7df",
   "metadata": {},
   "outputs": [],
   "source": [
    "#scrape Designation\n",
    "designation=driver.find_elements(By.XPATH,\"//span[@class='ellipsis clr']\")\n",
    "for i in designation:\n",
    "    designation=i.text\n",
    "    Designation.append(designation)"
   ]
  },
  {
   "cell_type": "code",
   "execution_count": 21,
   "id": "a733e6b5",
   "metadata": {},
   "outputs": [
    {
     "data": {
      "text/plain": [
       "50"
      ]
     },
     "execution_count": 21,
     "metadata": {},
     "output_type": "execute_result"
    }
   ],
   "source": [
    "len(Designation)"
   ]
  },
  {
   "cell_type": "code",
   "execution_count": 22,
   "id": "f4aa0835",
   "metadata": {},
   "outputs": [],
   "source": [
    "#scrape skills\n",
    "skills=driver.find_elements(By.XPATH,\"//div[@class='hireSec highlightable']\")\n",
    "for i in skills:\n",
    "    skills=i.text\n",
    "    Skills_they_hire_for.append(skills)"
   ]
  },
  {
   "cell_type": "code",
   "execution_count": 23,
   "id": "c899ddd8",
   "metadata": {},
   "outputs": [
    {
     "data": {
      "text/plain": [
       "50"
      ]
     },
     "execution_count": 23,
     "metadata": {},
     "output_type": "execute_result"
    }
   ],
   "source": [
    "len(Skills_they_hire_for)"
   ]
  },
  {
   "cell_type": "code",
   "execution_count": 24,
   "id": "a9c79ac7",
   "metadata": {},
   "outputs": [],
   "source": [
    "#scrape job location\n",
    "location_tags=driver.find_elements(By.XPATH,\"//small[@class='ellipsis']\")\n",
    "for i in location_tags:\n",
    "    location=i.text\n",
    "    Location.append(location)"
   ]
  },
  {
   "cell_type": "code",
   "execution_count": 25,
   "id": "82bee689",
   "metadata": {},
   "outputs": [
    {
     "data": {
      "text/plain": [
       "50"
      ]
     },
     "execution_count": 25,
     "metadata": {},
     "output_type": "execute_result"
    }
   ],
   "source": [
    "len(Location)"
   ]
  },
  {
   "cell_type": "code",
   "execution_count": 26,
   "id": "bc12891d",
   "metadata": {},
   "outputs": [
    {
     "data": {
      "text/html": [
       "<div>\n",
       "<style scoped>\n",
       "    .dataframe tbody tr th:only-of-type {\n",
       "        vertical-align: middle;\n",
       "    }\n",
       "\n",
       "    .dataframe tbody tr th {\n",
       "        vertical-align: top;\n",
       "    }\n",
       "\n",
       "    .dataframe thead th {\n",
       "        text-align: right;\n",
       "    }\n",
       "</style>\n",
       "<table border=\"1\" class=\"dataframe\">\n",
       "  <thead>\n",
       "    <tr style=\"text-align: right;\">\n",
       "      <th></th>\n",
       "      <th>Name_tag</th>\n",
       "      <th>Designation</th>\n",
       "      <th>Skills_they_hire_for</th>\n",
       "      <th>Location</th>\n",
       "    </tr>\n",
       "  </thead>\n",
       "  <tbody>\n",
       "    <tr>\n",
       "      <th>0</th>\n",
       "      <td>Aakash Harit</td>\n",
       "      <td>HR Manager</td>\n",
       "      <td>Classic ASP Developer, Internet Marketing Prof...</td>\n",
       "      <td>Delhi</td>\n",
       "    </tr>\n",
       "    <tr>\n",
       "      <th>1</th>\n",
       "      <td>Vasundhara Kaul</td>\n",
       "      <td>Company Recruiter</td>\n",
       "      <td>Data Analysis, Data Science, Predictive Modeli...</td>\n",
       "      <td>Gurgaon</td>\n",
       "    </tr>\n",
       "    <tr>\n",
       "      <th>2</th>\n",
       "      <td>Rajat Kumar</td>\n",
       "      <td>Founder CEO</td>\n",
       "      <td>Web Technologies, Project Management, Software...</td>\n",
       "      <td>Delhi</td>\n",
       "    </tr>\n",
       "    <tr>\n",
       "      <th>3</th>\n",
       "      <td>Abhishek sharma</td>\n",
       "      <td>Manager</td>\n",
       "      <td>Client Relationship Management, Selling Skills...</td>\n",
       "      <td>Delhi</td>\n",
       "    </tr>\n",
       "    <tr>\n",
       "      <th>4</th>\n",
       "      <td>Rashmi Bhattacharjee</td>\n",
       "      <td>HR Head</td>\n",
       "      <td>Corporate Sales, Software Development, Softwar...</td>\n",
       "      <td>Delhi</td>\n",
       "    </tr>\n",
       "    <tr>\n",
       "      <th>5</th>\n",
       "      <td>Pranav Patel</td>\n",
       "      <td>Business Development Manager</td>\n",
       "      <td>English Writing, Listingin, Etc Reqvair For Cu...</td>\n",
       "      <td>Delhi</td>\n",
       "    </tr>\n",
       "    <tr>\n",
       "      <th>6</th>\n",
       "      <td>Deeparchi Sharma</td>\n",
       "      <td>Company Recruiter</td>\n",
       "      <td>Research, Digital Marketing, Analytics, Softwa...</td>\n",
       "      <td>Gurgaon</td>\n",
       "    </tr>\n",
       "    <tr>\n",
       "      <th>7</th>\n",
       "      <td>Rajni</td>\n",
       "      <td>Team Leader HR Operations</td>\n",
       "      <td>Analytics, Machine Learning, Data Science, Etl...</td>\n",
       "      <td>Delhi</td>\n",
       "    </tr>\n",
       "    <tr>\n",
       "      <th>8</th>\n",
       "      <td>Rajpal Tyagi</td>\n",
       "      <td>Managing Director</td>\n",
       "      <td>Cryptography, Big Data, Data Science, Blockchain</td>\n",
       "      <td>Delhi</td>\n",
       "    </tr>\n",
       "    <tr>\n",
       "      <th>9</th>\n",
       "      <td>Urvi Kumar</td>\n",
       "      <td>Talent Recruiter</td>\n",
       "      <td>Content Writing, research, Software Services, ...</td>\n",
       "      <td>Delhi</td>\n",
       "    </tr>\n",
       "    <tr>\n",
       "      <th>10</th>\n",
       "      <td>Sanchit Garg</td>\n",
       "      <td>Strategy Consultant</td>\n",
       "      <td>Not Specified</td>\n",
       "      <td>Gurgaon</td>\n",
       "    </tr>\n",
       "    <tr>\n",
       "      <th>11</th>\n",
       "      <td>Mamta rawat</td>\n",
       "      <td>Technical Recruiter</td>\n",
       "      <td>Not Specified</td>\n",
       "      <td>Noida</td>\n",
       "    </tr>\n",
       "    <tr>\n",
       "      <th>12</th>\n",
       "      <td>Mamta Rawat</td>\n",
       "      <td>Technical Recruiter</td>\n",
       "      <td>Not Specified</td>\n",
       "      <td>Noida</td>\n",
       "    </tr>\n",
       "    <tr>\n",
       "      <th>13</th>\n",
       "      <td>Priyanka Balodi</td>\n",
       "      <td>HR Analyst</td>\n",
       "      <td>Data Science</td>\n",
       "      <td>Delhi</td>\n",
       "    </tr>\n",
       "    <tr>\n",
       "      <th>14</th>\n",
       "      <td>Jamil Akhtar</td>\n",
       "      <td>Company Recruiter</td>\n",
       "      <td>Not Specified</td>\n",
       "      <td>Delhi</td>\n",
       "    </tr>\n",
       "    <tr>\n",
       "      <th>15</th>\n",
       "      <td>Animesh Choudhuri</td>\n",
       "      <td>Head Recruitment</td>\n",
       "      <td>Data Analytics, Data Science, Python, Advanced...</td>\n",
       "      <td>Gurgaon</td>\n",
       "    </tr>\n",
       "    <tr>\n",
       "      <th>16</th>\n",
       "      <td>Jitendra Singh</td>\n",
       "      <td>Manager- Talent Acquisition</td>\n",
       "      <td>Python, Data Science, .Net, Java, Big Data, Da...</td>\n",
       "      <td>Delhi</td>\n",
       "    </tr>\n",
       "    <tr>\n",
       "      <th>17</th>\n",
       "      <td>Aneela</td>\n",
       "      <td>Management Head</td>\n",
       "      <td>Freelance Recruitment, Big Data Analytics, Dat...</td>\n",
       "      <td>Delhi</td>\n",
       "    </tr>\n",
       "    <tr>\n",
       "      <th>18</th>\n",
       "      <td>Arabinda Das</td>\n",
       "      <td>Head Service Delivery Business Operation</td>\n",
       "      <td>Sap Basis, sap basis consultant, Magento, Word...</td>\n",
       "      <td>Noida</td>\n",
       "    </tr>\n",
       "    <tr>\n",
       "      <th>19</th>\n",
       "      <td>Charu Jindal</td>\n",
       "      <td>Assistant Manager</td>\n",
       "      <td>Data Science, finance, analytics, Information ...</td>\n",
       "      <td>Gurgaon</td>\n",
       "    </tr>\n",
       "    <tr>\n",
       "      <th>20</th>\n",
       "      <td>neena</td>\n",
       "      <td>Sr Talent Acquisition Specialist</td>\n",
       "      <td>Ruby Rails, mvc, coding, javascript, css, ios,...</td>\n",
       "      <td>Delhi</td>\n",
       "    </tr>\n",
       "    <tr>\n",
       "      <th>21</th>\n",
       "      <td>Talent Scout</td>\n",
       "      <td>Company HR</td>\n",
       "      <td>Not Specified</td>\n",
       "      <td>Gurgaon</td>\n",
       "    </tr>\n",
       "    <tr>\n",
       "      <th>22</th>\n",
       "      <td>ESS CEE HR SOLUTIONS</td>\n",
       "      <td>Proprietor</td>\n",
       "      <td>Not Specified</td>\n",
       "      <td>Noida</td>\n",
       "    </tr>\n",
       "    <tr>\n",
       "      <th>23</th>\n",
       "      <td>Pooja Falwariay</td>\n",
       "      <td>Talent Acquisition Specialist</td>\n",
       "      <td>sales executive activities, Management Interac...</td>\n",
       "      <td>Gurgaon</td>\n",
       "    </tr>\n",
       "    <tr>\n",
       "      <th>24</th>\n",
       "      <td>Shankar maghaiya</td>\n",
       "      <td>HR Manager</td>\n",
       "      <td>Software Development, Java, Coding, Unit Testi...</td>\n",
       "      <td>Delhi</td>\n",
       "    </tr>\n",
       "    <tr>\n",
       "      <th>25</th>\n",
       "      <td>Abhishek</td>\n",
       "      <td>Recruiter</td>\n",
       "      <td>Technical Sales, Antivirus</td>\n",
       "      <td>Noida</td>\n",
       "    </tr>\n",
       "    <tr>\n",
       "      <th>26</th>\n",
       "      <td>Garima Neb</td>\n",
       "      <td>Sr HR Associate</td>\n",
       "      <td>TOP NOTCH CLIENTS</td>\n",
       "      <td>Delhi</td>\n",
       "    </tr>\n",
       "    <tr>\n",
       "      <th>27</th>\n",
       "      <td>Sneha Singh</td>\n",
       "      <td>HR Manager</td>\n",
       "      <td>Lead Generation, Direct Sales, New Business, C...</td>\n",
       "      <td>Delhi</td>\n",
       "    </tr>\n",
       "    <tr>\n",
       "      <th>28</th>\n",
       "      <td>Sakhi Sharma</td>\n",
       "      <td>Senior HR Executive</td>\n",
       "      <td>Software Development, Java, Coding, Customer E...</td>\n",
       "      <td>Noida</td>\n",
       "    </tr>\n",
       "    <tr>\n",
       "      <th>29</th>\n",
       "      <td>shailendra soni</td>\n",
       "      <td>Recruitment lead</td>\n",
       "      <td>Software Development, Java, Coding, Unit Testi...</td>\n",
       "      <td>Delhi</td>\n",
       "    </tr>\n",
       "    <tr>\n",
       "      <th>30</th>\n",
       "      <td>Monika Tyagi</td>\n",
       "      <td>Talent Acquisition Specialist</td>\n",
       "      <td>Manager Level</td>\n",
       "      <td>Delhi</td>\n",
       "    </tr>\n",
       "    <tr>\n",
       "      <th>31</th>\n",
       "      <td>Deepak Kumar Tyagi</td>\n",
       "      <td>Recruiter</td>\n",
       "      <td>Ui Development, Front End, Java, Javascript, P...</td>\n",
       "      <td>Noida</td>\n",
       "    </tr>\n",
       "    <tr>\n",
       "      <th>32</th>\n",
       "      <td>Ritu</td>\n",
       "      <td>Head Customer Success</td>\n",
       "      <td>Programmer Software Developer, IT Software Ser...</td>\n",
       "      <td>Noida</td>\n",
       "    </tr>\n",
       "    <tr>\n",
       "      <th>33</th>\n",
       "      <td>Rajeev</td>\n",
       "      <td>Founder</td>\n",
       "      <td>Human Resource Management, Sales, Marketing, B...</td>\n",
       "      <td>Delhi</td>\n",
       "    </tr>\n",
       "    <tr>\n",
       "      <th>34</th>\n",
       "      <td>Jyotsna Ahuja</td>\n",
       "      <td>Company HR</td>\n",
       "      <td>Not Specified</td>\n",
       "      <td>Gurgaon</td>\n",
       "    </tr>\n",
       "    <tr>\n",
       "      <th>35</th>\n",
       "      <td>Kajal Yadav</td>\n",
       "      <td>HR Manager</td>\n",
       "      <td>Backend, Communication Skills, Operations, Tel...</td>\n",
       "      <td>Gurgaon</td>\n",
       "    </tr>\n",
       "    <tr>\n",
       "      <th>36</th>\n",
       "      <td>Devika</td>\n",
       "      <td>HR Consultant</td>\n",
       "      <td>Logic Eastern, Kvantum, Venera Technologies</td>\n",
       "      <td>Noida</td>\n",
       "    </tr>\n",
       "    <tr>\n",
       "      <th>37</th>\n",
       "      <td>jamal ahmad</td>\n",
       "      <td>Sr Manager HR</td>\n",
       "      <td>Asp.net, C#, Visual Studio, .net Architecture,...</td>\n",
       "      <td>Gurgaon</td>\n",
       "    </tr>\n",
       "    <tr>\n",
       "      <th>38</th>\n",
       "      <td>Synergistic Compusoft</td>\n",
       "      <td>HR Manager</td>\n",
       "      <td>Us It Recruitment, Us It Staffing, Software De...</td>\n",
       "      <td>Ghaziabad</td>\n",
       "    </tr>\n",
       "    <tr>\n",
       "      <th>39</th>\n",
       "      <td>Rachita</td>\n",
       "      <td>HR Recruiter</td>\n",
       "      <td>Not Specified</td>\n",
       "      <td>Delhi</td>\n",
       "    </tr>\n",
       "    <tr>\n",
       "      <th>40</th>\n",
       "      <td>PacsysHire</td>\n",
       "      <td>Founder</td>\n",
       "      <td>Not Specified</td>\n",
       "      <td>Delhi</td>\n",
       "    </tr>\n",
       "    <tr>\n",
       "      <th>41</th>\n",
       "      <td>JITENDRA CHAUHAN</td>\n",
       "      <td>Chief Executive Officer</td>\n",
       "      <td>Nearbuy</td>\n",
       "      <td>Delhi</td>\n",
       "    </tr>\n",
       "    <tr>\n",
       "      <th>42</th>\n",
       "      <td>Shalini Singh</td>\n",
       "      <td>Senior Recruiter</td>\n",
       "      <td>Reliance</td>\n",
       "      <td>Delhi</td>\n",
       "    </tr>\n",
       "    <tr>\n",
       "      <th>43</th>\n",
       "      <td>Rohit Kumar</td>\n",
       "      <td>Senior Consultant</td>\n",
       "      <td>It Recruitment, High Level Design</td>\n",
       "      <td>Gurgaon</td>\n",
       "    </tr>\n",
       "    <tr>\n",
       "      <th>44</th>\n",
       "      <td>kanika mishra</td>\n",
       "      <td>Corporate Recruiter</td>\n",
       "      <td>Java, Linux, etl, Data Modelling, Data Warehouse</td>\n",
       "      <td>Delhi</td>\n",
       "    </tr>\n",
       "    <tr>\n",
       "      <th>45</th>\n",
       "      <td>Anil Tewari</td>\n",
       "      <td>Sr Technical Hiring Specialist</td>\n",
       "      <td>Product Based Organisation</td>\n",
       "      <td>Gurgaon</td>\n",
       "    </tr>\n",
       "    <tr>\n",
       "      <th>46</th>\n",
       "      <td>Akanksha Kumar</td>\n",
       "      <td>Sr Corporate HR</td>\n",
       "      <td>Not Specified</td>\n",
       "      <td>Noida</td>\n",
       "    </tr>\n",
       "    <tr>\n",
       "      <th>47</th>\n",
       "      <td>Rakesh Roshan</td>\n",
       "      <td>Assistant Manager</td>\n",
       "      <td>Not Specified</td>\n",
       "      <td>Gurgaon</td>\n",
       "    </tr>\n",
       "    <tr>\n",
       "      <th>48</th>\n",
       "      <td>Mohit Verma</td>\n",
       "      <td>Recruitment Consultant</td>\n",
       "      <td>Not Specified</td>\n",
       "      <td>Delhi</td>\n",
       "    </tr>\n",
       "    <tr>\n",
       "      <th>49</th>\n",
       "      <td>Shilpi Sardana</td>\n",
       "      <td>Company HR</td>\n",
       "      <td>Not Specified</td>\n",
       "      <td>Noida</td>\n",
       "    </tr>\n",
       "  </tbody>\n",
       "</table>\n",
       "</div>"
      ],
      "text/plain": [
       "                 Name_tag                               Designation  \\\n",
       "0            Aakash Harit                                HR Manager   \n",
       "1         Vasundhara Kaul                         Company Recruiter   \n",
       "2             Rajat Kumar                               Founder CEO   \n",
       "3         Abhishek sharma                                   Manager   \n",
       "4    Rashmi Bhattacharjee                                   HR Head   \n",
       "5            Pranav Patel              Business Development Manager   \n",
       "6        Deeparchi Sharma                         Company Recruiter   \n",
       "7                   Rajni                 Team Leader HR Operations   \n",
       "8            Rajpal Tyagi                         Managing Director   \n",
       "9              Urvi Kumar                          Talent Recruiter   \n",
       "10           Sanchit Garg                       Strategy Consultant   \n",
       "11            Mamta rawat                       Technical Recruiter   \n",
       "12            Mamta Rawat                       Technical Recruiter   \n",
       "13        Priyanka Balodi                                HR Analyst   \n",
       "14           Jamil Akhtar                         Company Recruiter   \n",
       "15      Animesh Choudhuri                          Head Recruitment   \n",
       "16         Jitendra Singh               Manager- Talent Acquisition   \n",
       "17                 Aneela                           Management Head   \n",
       "18           Arabinda Das  Head Service Delivery Business Operation   \n",
       "19           Charu Jindal                         Assistant Manager   \n",
       "20                  neena          Sr Talent Acquisition Specialist   \n",
       "21           Talent Scout                                Company HR   \n",
       "22   ESS CEE HR SOLUTIONS                                Proprietor   \n",
       "23        Pooja Falwariay             Talent Acquisition Specialist   \n",
       "24       Shankar maghaiya                                HR Manager   \n",
       "25               Abhishek                                 Recruiter   \n",
       "26             Garima Neb                           Sr HR Associate   \n",
       "27            Sneha Singh                                HR Manager   \n",
       "28           Sakhi Sharma                       Senior HR Executive   \n",
       "29        shailendra soni                          Recruitment lead   \n",
       "30           Monika Tyagi             Talent Acquisition Specialist   \n",
       "31     Deepak Kumar Tyagi                                 Recruiter   \n",
       "32                   Ritu                     Head Customer Success   \n",
       "33                 Rajeev                                   Founder   \n",
       "34          Jyotsna Ahuja                                Company HR   \n",
       "35            Kajal Yadav                                HR Manager   \n",
       "36                 Devika                             HR Consultant   \n",
       "37            jamal ahmad                             Sr Manager HR   \n",
       "38  Synergistic Compusoft                                HR Manager   \n",
       "39                Rachita                              HR Recruiter   \n",
       "40             PacsysHire                                   Founder   \n",
       "41       JITENDRA CHAUHAN                   Chief Executive Officer   \n",
       "42          Shalini Singh                          Senior Recruiter   \n",
       "43            Rohit Kumar                         Senior Consultant   \n",
       "44          kanika mishra                       Corporate Recruiter   \n",
       "45            Anil Tewari            Sr Technical Hiring Specialist   \n",
       "46         Akanksha Kumar                           Sr Corporate HR   \n",
       "47          Rakesh Roshan                         Assistant Manager   \n",
       "48            Mohit Verma                    Recruitment Consultant   \n",
       "49         Shilpi Sardana                                Company HR   \n",
       "\n",
       "                                 Skills_they_hire_for   Location  \n",
       "0   Classic ASP Developer, Internet Marketing Prof...      Delhi  \n",
       "1   Data Analysis, Data Science, Predictive Modeli...    Gurgaon  \n",
       "2   Web Technologies, Project Management, Software...      Delhi  \n",
       "3   Client Relationship Management, Selling Skills...      Delhi  \n",
       "4   Corporate Sales, Software Development, Softwar...      Delhi  \n",
       "5   English Writing, Listingin, Etc Reqvair For Cu...      Delhi  \n",
       "6   Research, Digital Marketing, Analytics, Softwa...    Gurgaon  \n",
       "7   Analytics, Machine Learning, Data Science, Etl...      Delhi  \n",
       "8    Cryptography, Big Data, Data Science, Blockchain      Delhi  \n",
       "9   Content Writing, research, Software Services, ...      Delhi  \n",
       "10                                      Not Specified    Gurgaon  \n",
       "11                                      Not Specified      Noida  \n",
       "12                                      Not Specified      Noida  \n",
       "13                                       Data Science      Delhi  \n",
       "14                                      Not Specified      Delhi  \n",
       "15  Data Analytics, Data Science, Python, Advanced...    Gurgaon  \n",
       "16  Python, Data Science, .Net, Java, Big Data, Da...      Delhi  \n",
       "17  Freelance Recruitment, Big Data Analytics, Dat...      Delhi  \n",
       "18  Sap Basis, sap basis consultant, Magento, Word...      Noida  \n",
       "19  Data Science, finance, analytics, Information ...    Gurgaon  \n",
       "20  Ruby Rails, mvc, coding, javascript, css, ios,...      Delhi  \n",
       "21                                      Not Specified    Gurgaon  \n",
       "22                                      Not Specified      Noida  \n",
       "23  sales executive activities, Management Interac...    Gurgaon  \n",
       "24  Software Development, Java, Coding, Unit Testi...      Delhi  \n",
       "25                         Technical Sales, Antivirus      Noida  \n",
       "26                                  TOP NOTCH CLIENTS      Delhi  \n",
       "27  Lead Generation, Direct Sales, New Business, C...      Delhi  \n",
       "28  Software Development, Java, Coding, Customer E...      Noida  \n",
       "29  Software Development, Java, Coding, Unit Testi...      Delhi  \n",
       "30                                      Manager Level      Delhi  \n",
       "31  Ui Development, Front End, Java, Javascript, P...      Noida  \n",
       "32  Programmer Software Developer, IT Software Ser...      Noida  \n",
       "33  Human Resource Management, Sales, Marketing, B...      Delhi  \n",
       "34                                      Not Specified    Gurgaon  \n",
       "35  Backend, Communication Skills, Operations, Tel...    Gurgaon  \n",
       "36        Logic Eastern, Kvantum, Venera Technologies      Noida  \n",
       "37  Asp.net, C#, Visual Studio, .net Architecture,...    Gurgaon  \n",
       "38  Us It Recruitment, Us It Staffing, Software De...  Ghaziabad  \n",
       "39                                      Not Specified      Delhi  \n",
       "40                                      Not Specified      Delhi  \n",
       "41                                            Nearbuy      Delhi  \n",
       "42                                           Reliance      Delhi  \n",
       "43                  It Recruitment, High Level Design    Gurgaon  \n",
       "44   Java, Linux, etl, Data Modelling, Data Warehouse      Delhi  \n",
       "45                         Product Based Organisation    Gurgaon  \n",
       "46                                      Not Specified      Noida  \n",
       "47                                      Not Specified    Gurgaon  \n",
       "48                                      Not Specified      Delhi  \n",
       "49                                      Not Specified      Noida  "
      ]
     },
     "execution_count": 26,
     "metadata": {},
     "output_type": "execute_result"
    }
   ],
   "source": [
    "df=pd.DataFrame({\"Name_tag\":Name_tag,\"Designation\":Designation,\"Skills_they_hire_for\":Skills_they_hire_for,\"Location\":Location})\n",
    "df"
   ]
  },
  {
   "cell_type": "markdown",
   "id": "c694a529",
   "metadata": {},
   "source": [
    "Answer no-8"
   ]
  },
  {
   "cell_type": "code",
   "execution_count": 35,
   "id": "eac92c46",
   "metadata": {},
   "outputs": [],
   "source": [
    "import selenium\n",
    "import pandas as pd\n",
    "from selenium import webdriver\n",
    "import warnings\n",
    "warnings.filterwarnings('ignore')\n",
    "from selenium.webdriver.common.by import By\n",
    "import time"
   ]
  },
  {
   "cell_type": "code",
   "execution_count": 36,
   "id": "5556877a",
   "metadata": {},
   "outputs": [],
   "source": [
    "driver=webdriver.Chrome(r\"chromedriver.exe\")"
   ]
  },
  {
   "cell_type": "code",
   "execution_count": 38,
   "id": "2f2a1f4a",
   "metadata": {},
   "outputs": [],
   "source": [
    "driver.get(\"https://www.theguardian.com/news/datablog/2012/aug/09/best-selling-books-all-time-fifty-shades-grey-compare\")"
   ]
  },
  {
   "cell_type": "code",
   "execution_count": 39,
   "id": "afb13af6",
   "metadata": {},
   "outputs": [],
   "source": [
    "#scrape Name\n",
    "Name=[]\n",
    "name=driver.find_elements(By.XPATH,\"//table[@class='in-article sortable']\")\n",
    "for i in name:\n",
    "    name=i.text\n",
    "    Name.append(name)"
   ]
  },
  {
   "cell_type": "code",
   "execution_count": 40,
   "id": "2ea27428",
   "metadata": {},
   "outputs": [
    {
     "name": "stdout",
     "output_type": "stream",
     "text": [
      "['Top 100 best selling books of all time\\nUK sales only. Click heading to sort table. Download this data\\nRank\\nTitle\\nAuthor\\nVolume Sales\\nPublisher\\nGenre\\nSOURCE: NIELSEN BOOK SCAN\\n1 Da Vinci Code,The Brown, Dan 5,094,805 Transworld Crime, Thriller & Adventure\\n2 Harry Potter and the Deathly Hallows Rowling, J.K. 4,475,152 Bloomsbury Children\\'s Fiction\\n3 Harry Potter and the Philosopher\\'s Stone Rowling, J.K. 4,200,654 Bloomsbury Children\\'s Fiction\\n4 Harry Potter and the Order of the Phoenix Rowling, J.K. 4,179,479 Bloomsbury Children\\'s Fiction\\n5 Fifty Shades of Grey James, E. L. 3,758,936 Random House Romance & Sagas\\n6 Harry Potter and the Goblet of Fire Rowling, J.K. 3,583,215 Bloomsbury Children\\'s Fiction\\n7 Harry Potter and the Chamber of Secrets Rowling, J.K. 3,484,047 Bloomsbury Children\\'s Fiction\\n8 Harry Potter and the Prisoner of Azkaban Rowling, J.K. 3,377,906 Bloomsbury Children\\'s Fiction\\n9 Angels and Demons Brown, Dan 3,193,946 Transworld Crime, Thriller & Adventure\\n10 Harry Potter and the Half-blood Prince:Children\\'s Edition Rowling, J.K. 2,950,264 Bloomsbury Children\\'s Fiction\\n11 Fifty Shades Darker James, E. L. 2,479,784 Random House Romance & Sagas\\n12 Twilight Meyer, Stephenie 2,315,405 Little, Brown Book Young Adult Fiction\\n13 Girl with the Dragon Tattoo,The:Millennium Trilogy Larsson, Stieg 2,233,570 Quercus Crime, Thriller & Adventure\\n14 Fifty Shades Freed James, E. L. 2,193,928 Random House Romance & Sagas\\n15 Lost Symbol,The Brown, Dan 2,183,031 Transworld Crime, Thriller & Adventure\\n16 New Moon Meyer, Stephenie 2,152,737 Little, Brown Book Young Adult Fiction\\n17 Deception Point Brown, Dan 2,062,145 Transworld Crime, Thriller & Adventure\\n18 Eclipse Meyer, Stephenie 2,052,876 Little, Brown Book Young Adult Fiction\\n19 Lovely Bones,The Sebold, Alice 2,005,598 Pan Macmillan General & Literary Fiction\\n20 Curious Incident of the Dog in the Night-time,The Haddon, Mark 1,979,552 Random House General & Literary Fiction\\n21 Digital Fortress Brown, Dan 1,928,900 Transworld Crime, Thriller & Adventure\\n22 Short History of Nearly Everything,A Bryson, Bill 1,852,919 Transworld Popular Science\\n23 Girl Who Played with Fire,The:Millennium Trilogy Larsson, Stieg 1,814,784 Quercus Crime, Thriller & Adventure\\n24 Breaking Dawn Meyer, Stephenie 1,787,118 Little, Brown Book Young Adult Fiction\\n25 Very Hungry Caterpillar,The:The Very Hungry Caterpillar Carle, Eric 1,783,535 Penguin Picture Books\\n26 Gruffalo,The Donaldson, Julia 1,781,269 Pan Macmillan Picture Books\\n27 Jamie\\'s 30-Minute Meals Oliver, Jamie 1,743,266 Penguin Food & Drink: General\\n28 Kite Runner,The Hosseini, Khaled 1,629,119 Bloomsbury General & Literary Fiction\\n29 One Day Nicholls, David 1,616,068 Hodder & Stoughton General & Literary Fiction\\n30 Thousand Splendid Suns,A Hosseini, Khaled 1,583,992 Bloomsbury General & Literary Fiction\\n31 Girl Who Kicked the Hornets\\' Nest,The:Millennium Trilogy Larsson, Stieg 1,555,135 Quercus Crime, Thriller & Adventure\\n32 Time Traveler\\'s Wife,The Niffenegger, Audrey 1,546,886 Random House General & Literary Fiction\\n33 Atonement McEwan, Ian 1,539,428 Random House General & Literary Fiction\\n34 Bridget Jones\\'s Diary:A Novel Fielding, Helen 1,508,205 Pan Macmillan General & Literary Fiction\\n35 World According to Clarkson,The Clarkson, Jeremy 1,489,403 Penguin Humour: Collections & General\\n36 Captain Corelli\\'s Mandolin Bernieres, Louis de 1,352,318 Random House General & Literary Fiction\\n37 Sound of Laughter,The Kay, Peter 1,310,207 Random House Autobiography: General\\n38 Life of Pi Martel, Yann 1,310,176 Canongate General & Literary Fiction\\n39 Billy Connolly Stephenson, Pamela 1,231,957 HarperCollins Biography: The Arts\\n40 Child Called It,A Pelzer, Dave 1,217,712 Orion Autobiography: General\\n41 Gruffalo\\'s Child,The Donaldson, Julia 1,208,711 Pan Macmillan Picture Books\\n42 Angela\\'s Ashes:A Memoir of a Childhood McCourt, Frank 1,204,058 HarperCollins Autobiography: General\\n43 Birdsong Faulks, Sebastian 1,184,967 Random House General & Literary Fiction\\n44 Northern Lights:His Dark Materials S. Pullman, Philip 1,181,503 Scholastic Ltd. Young Adult Fiction\\n45 Labyrinth Mosse, Kate 1,181,093 Orion General & Literary Fiction\\n46 Harry Potter and the Half-blood Prince Rowling, J.K. 1,153,181 Bloomsbury Science Fiction & Fantasy\\n47 Help,The Stockett, Kathryn 1,132,336 Penguin General & Literary Fiction\\n48 Man and Boy Parsons, Tony 1,130,802 HarperCollins General & Literary Fiction\\n49 Memoirs of a Geisha Golden, Arthur 1,126,337 Random House General & Literary Fiction\\n50 No.1 Ladies\\' Detective Agency,The:No.1 Ladies\\' Detective Agency S. McCall Smith, Alexander 1,115,549 Little, Brown Book Crime, Thriller & Adventure\\n51 Island,The Hislop, Victoria 1,108,328 Headline General & Literary Fiction\\n52 PS, I Love You Ahern, Cecelia 1,107,379 HarperCollins General & Literary Fiction\\n53 You are What You Eat:The Plan That Will Change Your Life McKeith, Gillian 1,104,403 Penguin Fitness & Diet\\n54 Shadow of the Wind,The Zafon, Carlos Ruiz 1,092,349 Orion General & Literary Fiction\\n55 Tales of Beedle the Bard,The Rowling, J.K. 1,090,847 Bloomsbury Children\\'s Fiction\\n56 Broker,The Grisham, John 1,087,262 Random House Crime, Thriller & Adventure\\n57 Dr. Atkins\\' New Diet Revolution:The No-hunger, Luxurious Weight Loss P Atkins, Robert C. 1,054,196 Random House Fitness & Diet\\n58 Subtle Knife,The:His Dark Materials S. Pullman, Philip 1,037,160 Scholastic Ltd. Young Adult Fiction\\n59 Eats, Shoots and Leaves:The Zero Tolerance Approach to Punctuation Truss, Lynne 1,023,688 Profile Books Group Usage & Writing Guides\\n60 Delia\\'s How to Cook:(Bk.1) Smith, Delia 1,015,956 Random House Food & Drink: General\\n61 Chocolat Harris, Joanne 1,009,873 Transworld General & Literary Fiction\\n62 Boy in the Striped Pyjamas,The Boyne, John 1,004,414 Random House Childrens Books G Young Adult Fiction\\n63 My Sister\\'s Keeper Picoult, Jodi 1,003,780 Hodder & Stoughton General & Literary Fiction\\n64 Amber Spyglass,The:His Dark Materials S. Pullman, Philip 1,002,314 Scholastic Ltd. Young Adult Fiction\\n65 To Kill a Mockingbird Lee, Harper 998,213 Random House General & Literary Fiction\\n66 Men are from Mars, Women are from Venus:A Practical Guide for Improvin Gray, John 992,846 HarperCollins Popular Culture & Media: General Interest\\n67 Dear Fatty French, Dawn 986,753 Random House Autobiography: The Arts\\n68 Short History of Tractors in Ukrainian,A Lewycka, Marina 986,115 Penguin General & Literary Fiction\\n69 Hannibal Harris, Thomas 970,509 Random House Crime, Thriller & Adventure\\n70 Lord of the Rings,The Tolkien, J. R. R. 967,466 HarperCollins Science Fiction & Fantasy\\n71 Stupid White Men:...and Other Sorry Excuses for the State of the Natio Moore, Michael 963,353 Penguin Current Affairs & Issues\\n72 Interpretation of Murder,The Rubenfeld, Jed 962,515 Headline Crime, Thriller & Adventure\\n73 Sharon Osbourne Extreme:My Autobiography Osbourne, Sharon 959,496 Little, Brown Book Autobiography: The Arts\\n74 Alchemist,The:A Fable About Following Your Dream Coelho, Paulo 956,114 HarperCollins General & Literary Fiction\\n75 At My Mother\\'s Knee ...:and Other Low Joints O\\'Grady, Paul 945,640 Transworld Autobiography: The Arts\\n76 Notes from a Small Island Bryson, Bill 931,312 Transworld Travel Writing\\n77 Return of the Naked Chef,The Oliver, Jamie 925,425 Penguin Food & Drink: General\\n78 Bridget Jones: The Edge of Reason Fielding, Helen 924,695 Pan Macmillan General & Literary Fiction\\n79 Jamie\\'s Italy Oliver, Jamie 906,968 Penguin National & Regional Cuisine\\n80 I Can Make You Thin McKenna, Paul 905,086 Transworld Fitness & Diet\\n81 Down Under Bryson, Bill 890,847 Transworld Travel Writing\\n82 Summons,The Grisham, John 869,671 Random House Crime, Thriller & Adventure\\n83 Small Island Levy, Andrea 869,659 Headline General & Literary Fiction\\n84 Nigella Express Lawson, Nigella 862,602 Random House Food & Drink: General\\n85 Brick Lane Ali, Monica 856,540 Transworld General & Literary Fiction\\n86 Memory Keeper\\'s Daughter,The Edwards, Kim 845,858 Penguin General & Literary Fiction\\n87 Room on the Broom Donaldson, Julia 842,535 Pan Macmillan Picture Books\\n88 About a Boy Hornby, Nick 828,215 Penguin General & Literary Fiction\\n89 My Booky Wook Brand, Russell 820,563 Hodder & Stoughton Autobiography: The Arts\\n90 God Delusion,The Dawkins, Richard 816,907 Transworld Popular Science\\n91 \"Beano\" Annual,The 0 816,585 D.C. Thomson Children\\'s Annuals\\n92 White Teeth Smith, Zadie 815,586 Penguin General & Literary Fiction\\n93 House at Riverton,The Morton, Kate 814,370 Pan Macmillan General & Literary Fiction\\n94 Book Thief,The Zusak, Markus 809,641 Transworld General & Literary Fiction\\n95 Nights of Rain and Stars Binchy, Maeve 808,900 Orion General & Literary Fiction\\n96 Ghost,The Harris, Robert 807,311 Random House General & Literary Fiction\\n97 Happy Days with the Naked Chef Oliver, Jamie 794,201 Penguin Food & Drink: General\\n98 Hunger Games,The:Hunger Games Trilogy Collins, Suzanne 792,187 Scholastic Ltd. Young Adult Fiction\\n99 Lost Boy,The:A Foster Child\\'s Search for the Love of a Family Pelzer, Dave 791,507 Orion Biography: General\\n100 Jamie\\'s Ministry of Food:Anyone Can Learn to Cook in 24 Hours Oliver, Jamie 791,095 Penguin Food & Drink: General']\n"
     ]
    }
   ],
   "source": [
    "print(Name)"
   ]
  },
  {
   "cell_type": "code",
   "execution_count": null,
   "id": "b41f1345",
   "metadata": {},
   "outputs": [],
   "source": []
  },
  {
   "cell_type": "markdown",
   "id": "7748806b",
   "metadata": {},
   "source": [
    "Answer no-9"
   ]
  },
  {
   "cell_type": "code",
   "execution_count": 1,
   "id": "4b0434bb",
   "metadata": {},
   "outputs": [],
   "source": [
    "import selenium\n",
    "import pandas as pd\n",
    "from selenium import webdriver\n",
    "import warnings\n",
    "warnings.filterwarnings('ignore')\n",
    "from selenium.webdriver.common.by import By\n",
    "import time"
   ]
  },
  {
   "cell_type": "code",
   "execution_count": 2,
   "id": "c8c05f6d",
   "metadata": {},
   "outputs": [],
   "source": [
    "driver=webdriver.Chrome(r\"chromedriver.exe\")"
   ]
  },
  {
   "cell_type": "code",
   "execution_count": 3,
   "id": "8db82199",
   "metadata": {},
   "outputs": [],
   "source": [
    "driver.get(\"https://www.imdb.com/list/ls095964455/\")"
   ]
  },
  {
   "cell_type": "code",
   "execution_count": 8,
   "id": "89634d93",
   "metadata": {},
   "outputs": [],
   "source": [
    "#scrape Name\n",
    "Name=[]\n",
    "name=driver.find_elements(By.XPATH,\"//h3[@class='lister-item-header']\")\n",
    "for i in name:\n",
    "    name=i.text\n",
    "    Name.append(name)"
   ]
  },
  {
   "cell_type": "code",
   "execution_count": 10,
   "id": "ed0059b9",
   "metadata": {},
   "outputs": [
    {
     "data": {
      "text/plain": [
       "100"
      ]
     },
     "execution_count": 10,
     "metadata": {},
     "output_type": "execute_result"
    }
   ],
   "source": [
    "len(Name)"
   ]
  },
  {
   "cell_type": "code",
   "execution_count": 11,
   "id": "b6732dec",
   "metadata": {},
   "outputs": [],
   "source": [
    "#scrape genre\n",
    "Genre=[]\n",
    "genre=driver.find_elements(By.XPATH,\"//span[@class='genre']\")\n",
    "for i in genre:\n",
    "    genre=i.text\n",
    "    Genre.append(genre)"
   ]
  },
  {
   "cell_type": "code",
   "execution_count": 13,
   "id": "d4da8cde",
   "metadata": {},
   "outputs": [
    {
     "data": {
      "text/plain": [
       "100"
      ]
     },
     "execution_count": 13,
     "metadata": {},
     "output_type": "execute_result"
    }
   ],
   "source": [
    "len(Genre)"
   ]
  },
  {
   "cell_type": "code",
   "execution_count": 20,
   "id": "d05ad763",
   "metadata": {},
   "outputs": [],
   "source": [
    "#scrape Runtime\n",
    "Runtime=[]\n",
    "runtime=driver.find_elements(By.XPATH,\"//span[@class='runtime']\")\n",
    "for i in runtime:\n",
    "    runtime=i.text\n",
    "    Runtime.append(runtime)"
   ]
  },
  {
   "cell_type": "code",
   "execution_count": 21,
   "id": "9a3e528b",
   "metadata": {},
   "outputs": [
    {
     "data": {
      "text/plain": [
       "100"
      ]
     },
     "execution_count": 21,
     "metadata": {},
     "output_type": "execute_result"
    }
   ],
   "source": [
    "len(Runtime)"
   ]
  },
  {
   "cell_type": "code",
   "execution_count": 27,
   "id": "42bc3ac3",
   "metadata": {},
   "outputs": [],
   "source": [
    "#scrape Ratings\n",
    "Ratings=[]\n",
    "rating=driver.find_elements(By.XPATH,\"//div[@class='ipl-rating-star small']\")\n",
    "for i in rating:\n",
    "    rating=i.text\n",
    "    Ratings.append(rating)"
   ]
  },
  {
   "cell_type": "code",
   "execution_count": 28,
   "id": "78bcdcac",
   "metadata": {},
   "outputs": [
    {
     "data": {
      "text/plain": [
       "100"
      ]
     },
     "execution_count": 28,
     "metadata": {},
     "output_type": "execute_result"
    }
   ],
   "source": [
    "len(Ratings)"
   ]
  },
  {
   "cell_type": "code",
   "execution_count": 30,
   "id": "2c39ec75",
   "metadata": {},
   "outputs": [],
   "source": [
    "#scrape Votes\n",
    "Votes=[]\n",
    "vote=driver.find_elements(By.XPATH,\"//span[@name='nv']\")\n",
    "for i in vote:\n",
    "    vote=i.text\n",
    "    Votes.append(vote)"
   ]
  },
  {
   "cell_type": "code",
   "execution_count": 32,
   "id": "d78cdfc6",
   "metadata": {},
   "outputs": [
    {
     "data": {
      "text/plain": [
       "100"
      ]
     },
     "execution_count": 32,
     "metadata": {},
     "output_type": "execute_result"
    }
   ],
   "source": [
    "len(Votes)"
   ]
  },
  {
   "cell_type": "code",
   "execution_count": 33,
   "id": "c94cb3da",
   "metadata": {},
   "outputs": [
    {
     "data": {
      "text/html": [
       "<div>\n",
       "<style scoped>\n",
       "    .dataframe tbody tr th:only-of-type {\n",
       "        vertical-align: middle;\n",
       "    }\n",
       "\n",
       "    .dataframe tbody tr th {\n",
       "        vertical-align: top;\n",
       "    }\n",
       "\n",
       "    .dataframe thead th {\n",
       "        text-align: right;\n",
       "    }\n",
       "</style>\n",
       "<table border=\"1\" class=\"dataframe\">\n",
       "  <thead>\n",
       "    <tr style=\"text-align: right;\">\n",
       "      <th></th>\n",
       "      <th>Name</th>\n",
       "      <th>Genre</th>\n",
       "      <th>Runtime</th>\n",
       "      <th>Ratings</th>\n",
       "      <th>Votes</th>\n",
       "    </tr>\n",
       "  </thead>\n",
       "  <tbody>\n",
       "    <tr>\n",
       "      <th>0</th>\n",
       "      <td>1. Game of Thrones (2011–2019)</td>\n",
       "      <td>Action, Adventure, Drama</td>\n",
       "      <td>57 min</td>\n",
       "      <td>9.2</td>\n",
       "      <td>2,100,183</td>\n",
       "    </tr>\n",
       "    <tr>\n",
       "      <th>1</th>\n",
       "      <td>2. Stranger Things (2016– )</td>\n",
       "      <td>Drama, Fantasy, Horror</td>\n",
       "      <td>51 min</td>\n",
       "      <td>8.7</td>\n",
       "      <td>1,190,475</td>\n",
       "    </tr>\n",
       "    <tr>\n",
       "      <th>2</th>\n",
       "      <td>3. The Walking Dead (2010–2022)</td>\n",
       "      <td>Drama, Horror, Thriller</td>\n",
       "      <td>44 min</td>\n",
       "      <td>8.1</td>\n",
       "      <td>994,209</td>\n",
       "    </tr>\n",
       "    <tr>\n",
       "      <th>3</th>\n",
       "      <td>4. 13 Reasons Why (2017–2020)</td>\n",
       "      <td>Drama, Mystery, Thriller</td>\n",
       "      <td>60 min</td>\n",
       "      <td>7.5</td>\n",
       "      <td>294,237</td>\n",
       "    </tr>\n",
       "    <tr>\n",
       "      <th>4</th>\n",
       "      <td>5. The 100 (2014–2020)</td>\n",
       "      <td>Drama, Mystery, Sci-Fi</td>\n",
       "      <td>43 min</td>\n",
       "      <td>7.6</td>\n",
       "      <td>253,338</td>\n",
       "    </tr>\n",
       "    <tr>\n",
       "      <th>...</th>\n",
       "      <td>...</td>\n",
       "      <td>...</td>\n",
       "      <td>...</td>\n",
       "      <td>...</td>\n",
       "      <td>...</td>\n",
       "    </tr>\n",
       "    <tr>\n",
       "      <th>95</th>\n",
       "      <td>96. Reign (2013–2017)</td>\n",
       "      <td>Drama</td>\n",
       "      <td>42 min</td>\n",
       "      <td>7.4</td>\n",
       "      <td>50,377</td>\n",
       "    </tr>\n",
       "    <tr>\n",
       "      <th>96</th>\n",
       "      <td>97. A Series of Unfortunate Events (2017–2019)</td>\n",
       "      <td>Adventure, Comedy, Drama</td>\n",
       "      <td>50 min</td>\n",
       "      <td>7.8</td>\n",
       "      <td>61,987</td>\n",
       "    </tr>\n",
       "    <tr>\n",
       "      <th>97</th>\n",
       "      <td>98. Criminal Minds (2005– )</td>\n",
       "      <td>Crime, Drama, Mystery</td>\n",
       "      <td>42 min</td>\n",
       "      <td>8.1</td>\n",
       "      <td>199,948</td>\n",
       "    </tr>\n",
       "    <tr>\n",
       "      <th>98</th>\n",
       "      <td>99. Scream: The TV Series (2015–2019)</td>\n",
       "      <td>Comedy, Crime, Drama</td>\n",
       "      <td>45 min</td>\n",
       "      <td>7.1</td>\n",
       "      <td>41,715</td>\n",
       "    </tr>\n",
       "    <tr>\n",
       "      <th>99</th>\n",
       "      <td>100. The Haunting of Hill House (2018)</td>\n",
       "      <td>Drama, Horror, Mystery</td>\n",
       "      <td>572 min</td>\n",
       "      <td>8.6</td>\n",
       "      <td>246,996</td>\n",
       "    </tr>\n",
       "  </tbody>\n",
       "</table>\n",
       "<p>100 rows × 5 columns</p>\n",
       "</div>"
      ],
      "text/plain": [
       "                                              Name                     Genre  \\\n",
       "0                   1. Game of Thrones (2011–2019)  Action, Adventure, Drama   \n",
       "1                      2. Stranger Things (2016– )    Drama, Fantasy, Horror   \n",
       "2                  3. The Walking Dead (2010–2022)   Drama, Horror, Thriller   \n",
       "3                    4. 13 Reasons Why (2017–2020)  Drama, Mystery, Thriller   \n",
       "4                           5. The 100 (2014–2020)    Drama, Mystery, Sci-Fi   \n",
       "..                                             ...                       ...   \n",
       "95                           96. Reign (2013–2017)                     Drama   \n",
       "96  97. A Series of Unfortunate Events (2017–2019)  Adventure, Comedy, Drama   \n",
       "97                     98. Criminal Minds (2005– )     Crime, Drama, Mystery   \n",
       "98           99. Scream: The TV Series (2015–2019)      Comedy, Crime, Drama   \n",
       "99          100. The Haunting of Hill House (2018)    Drama, Horror, Mystery   \n",
       "\n",
       "    Runtime Ratings      Votes  \n",
       "0    57 min     9.2  2,100,183  \n",
       "1    51 min     8.7  1,190,475  \n",
       "2    44 min     8.1    994,209  \n",
       "3    60 min     7.5    294,237  \n",
       "4    43 min     7.6    253,338  \n",
       "..      ...     ...        ...  \n",
       "95   42 min     7.4     50,377  \n",
       "96   50 min     7.8     61,987  \n",
       "97   42 min     8.1    199,948  \n",
       "98   45 min     7.1     41,715  \n",
       "99  572 min     8.6    246,996  \n",
       "\n",
       "[100 rows x 5 columns]"
      ]
     },
     "execution_count": 33,
     "metadata": {},
     "output_type": "execute_result"
    }
   ],
   "source": [
    "df=pd.DataFrame({\"Name\":Name,\"Genre\":Genre,\"Runtime\":Runtime,\"Ratings\":Ratings,\"Votes\":Votes})\n",
    "df"
   ]
  },
  {
   "cell_type": "markdown",
   "id": "6fc5d78b",
   "metadata": {},
   "source": [
    "Answer no-10"
   ]
  },
  {
   "cell_type": "code",
   "execution_count": null,
   "id": "c915c598",
   "metadata": {},
   "outputs": [],
   "source": []
  }
 ],
 "metadata": {
  "kernelspec": {
   "display_name": "Python 3 (ipykernel)",
   "language": "python",
   "name": "python3"
  },
  "language_info": {
   "codemirror_mode": {
    "name": "ipython",
    "version": 3
   },
   "file_extension": ".py",
   "mimetype": "text/x-python",
   "name": "python",
   "nbconvert_exporter": "python",
   "pygments_lexer": "ipython3",
   "version": "3.9.12"
  }
 },
 "nbformat": 4,
 "nbformat_minor": 5
}
